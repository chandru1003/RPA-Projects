{
 "cells": [
  {
   "cell_type": "code",
   "execution_count": 9,
   "metadata": {},
   "outputs": [
    {
     "data": {
      "text/html": [
       "<div>\n",
       "<style scoped>\n",
       "    .dataframe tbody tr th:only-of-type {\n",
       "        vertical-align: middle;\n",
       "    }\n",
       "\n",
       "    .dataframe tbody tr th {\n",
       "        vertical-align: top;\n",
       "    }\n",
       "\n",
       "    .dataframe thead th {\n",
       "        text-align: right;\n",
       "    }\n",
       "</style>\n",
       "<table border=\"1\" class=\"dataframe\">\n",
       "  <thead>\n",
       "    <tr style=\"text-align: right;\">\n",
       "      <th></th>\n",
       "      <th>Ticket Type</th>\n",
       "      <th>Ticket Subject</th>\n",
       "    </tr>\n",
       "  </thead>\n",
       "  <tbody>\n",
       "    <tr>\n",
       "      <th>0</th>\n",
       "      <td>Billing inquiry</td>\n",
       "      <td>16</td>\n",
       "    </tr>\n",
       "    <tr>\n",
       "      <th>1</th>\n",
       "      <td>Cancellation request</td>\n",
       "      <td>16</td>\n",
       "    </tr>\n",
       "    <tr>\n",
       "      <th>2</th>\n",
       "      <td>Product inquiry</td>\n",
       "      <td>16</td>\n",
       "    </tr>\n",
       "    <tr>\n",
       "      <th>3</th>\n",
       "      <td>Refund request</td>\n",
       "      <td>16</td>\n",
       "    </tr>\n",
       "    <tr>\n",
       "      <th>4</th>\n",
       "      <td>Technical issue</td>\n",
       "      <td>16</td>\n",
       "    </tr>\n",
       "  </tbody>\n",
       "</table>\n",
       "</div>"
      ],
      "text/plain": [
       "            Ticket Type  Ticket Subject\n",
       "0       Billing inquiry              16\n",
       "1  Cancellation request              16\n",
       "2       Product inquiry              16\n",
       "3        Refund request              16\n",
       "4       Technical issue              16"
      ]
     },
     "execution_count": 9,
     "metadata": {},
     "output_type": "execute_result"
    }
   ],
   "source": [
    "import pandas as pd\n",
    "\n",
    "df = pd.read_csv('data\\input\\customer_support_tickets.csv')\n",
    "\n",
    "# Group by Ticket Type and count unique Ticket Subjects\n",
    "ticket_counts = df.groupby('Ticket Type')['Ticket Subject'].nunique().reset_index()\n",
    "\n",
    "# Display the result\n",
    "ticket_counts\n"
   ]
  },
  {
   "cell_type": "code",
   "execution_count": 6,
   "metadata": {},
   "outputs": [
    {
     "name": "stdout",
     "output_type": "stream",
     "text": [
      "                                                         Ticket Subject\n",
      "Ticket Type                                                            \n",
      "Billing inquiry       Account access, Data loss, Product setup, Prod...\n",
      "Cancellation request  Payment issue, Data loss, Installation support...\n",
      "Product inquiry       Refund request, Software bug, Account access, ...\n",
      "Refund request        Battery life, Payment issue, Software bug, Har...\n",
      "Technical issue       Product setup, Peripheral compatibility, Netwo...\n"
     ]
    }
   ],
   "source": [
    "table = pd.pivot_table(df, index='Ticket Type', values='Ticket Subject', aggfunc=lambda x: ', '.join(x.unique()))\n",
    "\n",
    "table\n",
    "\n",
    "print(table)"
   ]
  },
  {
   "cell_type": "code",
   "execution_count": 10,
   "metadata": {},
   "outputs": [
    {
     "data": {
      "text/html": [
       "<div>\n",
       "<style scoped>\n",
       "    .dataframe tbody tr th:only-of-type {\n",
       "        vertical-align: middle;\n",
       "    }\n",
       "\n",
       "    .dataframe tbody tr th {\n",
       "        vertical-align: top;\n",
       "    }\n",
       "\n",
       "    .dataframe thead th {\n",
       "        text-align: right;\n",
       "    }\n",
       "</style>\n",
       "<table border=\"1\" class=\"dataframe\">\n",
       "  <thead>\n",
       "    <tr style=\"text-align: right;\">\n",
       "      <th></th>\n",
       "      <th>Ticket Subject</th>\n",
       "    </tr>\n",
       "    <tr>\n",
       "      <th>Ticket Type</th>\n",
       "      <th></th>\n",
       "    </tr>\n",
       "  </thead>\n",
       "  <tbody>\n",
       "    <tr>\n",
       "      <th>Billing inquiry</th>\n",
       "      <td>Account access, Data loss, Product setup, Product recommendation, Cancellation request, Product compatibility, Payment issue, Hardware issue, Display issue, Delivery problem, Refund request, Software bug, Peripheral compatibility, Network problem, Installation support, Battery life</td>\n",
       "    </tr>\n",
       "    <tr>\n",
       "      <th>Cancellation request</th>\n",
       "      <td>Payment issue, Data loss, Installation support, Delivery problem, Product setup, Cancellation request, Product recommendation, Network problem, Software bug, Peripheral compatibility, Account access, Battery life, Hardware issue, Refund request, Product compatibility, Display issue</td>\n",
       "    </tr>\n",
       "    <tr>\n",
       "      <th>Product inquiry</th>\n",
       "      <td>Refund request, Software bug, Account access, Payment issue, Peripheral compatibility, Display issue, Product compatibility, Installation support, Cancellation request, Battery life, Product recommendation, Delivery problem, Hardware issue, Network problem, Product setup, Data loss</td>\n",
       "    </tr>\n",
       "    <tr>\n",
       "      <th>Refund request</th>\n",
       "      <td>Battery life, Payment issue, Software bug, Hardware issue, Installation support, Product compatibility, Network problem, Peripheral compatibility, Refund request, Delivery problem, Product recommendation, Display issue, Data loss, Cancellation request, Account access, Product setup</td>\n",
       "    </tr>\n",
       "    <tr>\n",
       "      <th>Technical issue</th>\n",
       "      <td>Product setup, Peripheral compatibility, Network problem, Installation support, Hardware issue, Refund request, Product recommendation, Product compatibility, Account access, Software bug, Display issue, Battery life, Delivery problem, Cancellation request, Data loss, Payment issue</td>\n",
       "    </tr>\n",
       "  </tbody>\n",
       "</table>\n",
       "</div>"
      ],
      "text/plain": [
       "                                                                                                                                                                                                                                                                                                  Ticket Subject\n",
       "Ticket Type                                                                                                                                                                                                                                                                                                     \n",
       "Billing inquiry       Account access, Data loss, Product setup, Product recommendation, Cancellation request, Product compatibility, Payment issue, Hardware issue, Display issue, Delivery problem, Refund request, Software bug, Peripheral compatibility, Network problem, Installation support, Battery life\n",
       "Cancellation request  Payment issue, Data loss, Installation support, Delivery problem, Product setup, Cancellation request, Product recommendation, Network problem, Software bug, Peripheral compatibility, Account access, Battery life, Hardware issue, Refund request, Product compatibility, Display issue\n",
       "Product inquiry       Refund request, Software bug, Account access, Payment issue, Peripheral compatibility, Display issue, Product compatibility, Installation support, Cancellation request, Battery life, Product recommendation, Delivery problem, Hardware issue, Network problem, Product setup, Data loss\n",
       "Refund request        Battery life, Payment issue, Software bug, Hardware issue, Installation support, Product compatibility, Network problem, Peripheral compatibility, Refund request, Delivery problem, Product recommendation, Display issue, Data loss, Cancellation request, Account access, Product setup\n",
       "Technical issue       Product setup, Peripheral compatibility, Network problem, Installation support, Hardware issue, Refund request, Product recommendation, Product compatibility, Account access, Software bug, Display issue, Battery life, Delivery problem, Cancellation request, Data loss, Payment issue"
      ]
     },
     "execution_count": 10,
     "metadata": {},
     "output_type": "execute_result"
    }
   ],
   "source": [
    "# Set display options to show more content\n",
    "pd.set_option('display.max_rows', None)\n",
    "pd.set_option('display.max_colwidth', None)\n",
    "\n",
    "\n",
    "# Create a table with each ticket type and its associated ticket subjects\n",
    "table = pd.pivot_table(df, index='Ticket Type', values='Ticket Subject', aggfunc=lambda x: ', '.join(x.unique()))\n",
    "\n",
    "# Display the table\n",
    "table\n",
    "\n"
   ]
  },
  {
   "cell_type": "code",
   "execution_count": null,
   "metadata": {},
   "outputs": [],
   "source": []
  }
 ],
 "metadata": {
  "kernelspec": {
   "display_name": "Python 3",
   "language": "python",
   "name": "python3"
  },
  "language_info": {
   "codemirror_mode": {
    "name": "ipython",
    "version": 3
   },
   "file_extension": ".py",
   "mimetype": "text/x-python",
   "name": "python",
   "nbconvert_exporter": "python",
   "pygments_lexer": "ipython3",
   "version": "3.10.4"
  }
 },
 "nbformat": 4,
 "nbformat_minor": 2
}
